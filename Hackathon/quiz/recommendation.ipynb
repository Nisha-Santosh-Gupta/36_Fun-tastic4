{
 "cells": [
  {
   "cell_type": "code",
   "execution_count": null,
   "metadata": {},
   "outputs": [],
   "source": [
    "from flask import Flask, flash, jsonify, render_template, request\n",
    "import webbrowser\n",
    "app = Flask(__name__)\n",
    "@app.route('/Summary', methods=['POST'])\n",
    "def Summary_data():\n",
    " parameter = request.form(['t1','t2'])\n",
    " Summary.data()\n",
    " \n",
    "\n",
    " \n",
    "\n",
    "\n",
    "\n"
   ]
  }
 ],
 "metadata": {
  "kernelspec": {
   "display_name": "Python 3.10.7 64-bit",
   "language": "python",
   "name": "python3"
  },
  "language_info": {
   "codemirror_mode": {
    "name": "ipython",
    "version": 3
   },
   "file_extension": ".py",
   "mimetype": "text/x-python",
   "name": "python",
   "nbconvert_exporter": "python",
   "pygments_lexer": "ipython3",
   "version": "3.10.7"
  },
  "orig_nbformat": 4,
  "vscode": {
   "interpreter": {
    "hash": "589a2cc98ffe5e2d45b6866beca2b77f271827a16f23151d45186d7405d7f4f6"
   }
  }
 },
 "nbformat": 4,
 "nbformat_minor": 2
}
