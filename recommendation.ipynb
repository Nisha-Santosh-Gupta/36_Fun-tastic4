{
 "cells": [
  {
   "cell_type": "code",
   "execution_count": 7,
   "metadata": {},
   "outputs": [
    {
     "ename": "SyntaxError",
     "evalue": "cannot use starred expression here (67424169.py, line 7)",
     "output_type": "error",
     "traceback": [
      "\u001b[1;36m  Cell \u001b[1;32mIn [7], line 7\u001b[1;36m\u001b[0m\n\u001b[1;33m    if(*parameter==\"Technical\")\u001b[0m\n\u001b[1;37m       ^\u001b[0m\n\u001b[1;31mSyntaxError\u001b[0m\u001b[1;31m:\u001b[0m cannot use starred expression here\n"
     ]
    }
   ],
   "source": [
    "from flask import Flask, flash, jsonify, render_template, request\n",
    "import webbrowser\n",
    "app = Flask(__name__)\n",
    "@app.route('/Summary', methods=['POST'])\n",
    "def Summary_data():\n",
    "    *parameter = request.form['t1'];\n",
    "if(parameter==\"Technical\")\n",
    "{\n",
    "    print M.Tech\n",
    "}\n"
   ]
  }
 ],
 "metadata": {
  "kernelspec": {
   "display_name": "Python 3.10.7 64-bit",
   "language": "python",
   "name": "python3"
  },
  "language_info": {
   "codemirror_mode": {
    "name": "ipython",
    "version": 3
   },
   "file_extension": ".py",
   "mimetype": "text/x-python",
   "name": "python",
   "nbconvert_exporter": "python",
   "pygments_lexer": "ipython3",
   "version": "3.10.7"
  },
  "orig_nbformat": 4,
  "vscode": {
   "interpreter": {
    "hash": "589a2cc98ffe5e2d45b6866beca2b77f271827a16f23151d45186d7405d7f4f6"
   }
  }
 },
 "nbformat": 4,
 "nbformat_minor": 2
}
